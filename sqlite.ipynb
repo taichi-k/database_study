{
 "cells": [
  {
   "cell_type": "code",
   "execution_count": 3,
   "id": "88cb455f",
   "metadata": {},
   "outputs": [],
   "source": [
    "# sqliteを利用\n",
    "import sqlite3"
   ]
  },
  {
   "cell_type": "code",
   "execution_count": 4,
   "id": "d9b92524",
   "metadata": {},
   "outputs": [],
   "source": [
    "conn = sqlite3.connect('./sqlite/test.sqlite')\n",
    "c = conn.cursor()"
   ]
  },
  {
   "cell_type": "code",
   "execution_count": null,
   "id": "3b08e4ae",
   "metadata": {},
   "outputs": [],
   "source": [
    "# 初期userを追加\n",
    "c.execute('''CREATE TABLE IF NOT EXISTS users \n",
    "          (id INTEGER PRIMARY KEY, name TEXT, age INTEGER)''')\n",
    "\n",
    "# もしデータがなければ追加\n",
    "c.execute(\"SELECT COUNT(*) FROM users\")\n",
    "if c.fetchone()[0] == 0:\n",
    "    c.execute(\"INSERT INTO users (name, age) VALUES ('Alice', 30)\")\n",
    "    c.execute(\"INSERT INTO users (name, age) VALUES ('Bob', 25)\")\n",
    "conn.commit()"
   ]
  },
  {
   "cell_type": "code",
   "execution_count": null,
   "id": "2cba86e5",
   "metadata": {},
   "outputs": [],
   "source": [
    "# hobbyテーブルを追加\n",
    "c.execute('''CREATE TABLE IF NOT EXISTS hobbies\n",
    "          (id INTEGER PRIMARY KEY, user_id INTEGER, hobby TEXT,\n",
    "           FOREIGN KEY(user_id) REFERENCES users(id))''')\n",
    "# もしデータがなければ追加\n",
    "c.execute(\"SELECT COUNT(*) FROM hobbies\")\n",
    "if c.fetchone()[0] == 0:\n",
    "    c.execute(\"INSERT INTO hobbies (user_id, hobby) VALUES (1, 'Reading')\")\n",
    "    c.execute(\"INSERT INTO hobbies (user_id, hobby) VALUES (1, 'Hiking')\")\n",
    "    c.execute(\"INSERT INTO hobbies (user_id, hobby) VALUES (2, 'Cooking')\")\n",
    "conn.commit()"
   ]
  },
  {
   "cell_type": "code",
   "execution_count": 6,
   "id": "cc32b988",
   "metadata": {},
   "outputs": [
    {
     "name": "stdout",
     "output_type": "stream",
     "text": [
      "(1, 'Alice', 30)\n",
      "(2, 'Bob', 25)\n"
     ]
    }
   ],
   "source": [
    "res = c.execute(\"SELECT * FROM users\")\n",
    "for row in res:\n",
    "    print(row)"
   ]
  },
  {
   "cell_type": "code",
   "execution_count": 9,
   "id": "03ba4c68",
   "metadata": {},
   "outputs": [
    {
     "name": "stdout",
     "output_type": "stream",
     "text": [
      "(1, 'Alice', 30, 1, 1, 'Reading')\n",
      "(1, 'Alice', 30, 2, 1, 'Hiking')\n",
      "(2, 'Bob', 25, 3, 2, 'Cooking')\n"
     ]
    }
   ],
   "source": [
    "res = c.execute(\"SELECT * FROM users JOIN hobbies ON users.id = hobbies.user_id\")\n",
    "for row in res:\n",
    "    print(row)"
   ]
  }
 ],
 "metadata": {
  "kernelspec": {
   "display_name": "3.11.8",
   "language": "python",
   "name": "python3"
  },
  "language_info": {
   "codemirror_mode": {
    "name": "ipython",
    "version": 3
   },
   "file_extension": ".py",
   "mimetype": "text/x-python",
   "name": "python",
   "nbconvert_exporter": "python",
   "pygments_lexer": "ipython3",
   "version": "3.11.8"
  }
 },
 "nbformat": 4,
 "nbformat_minor": 5
}
