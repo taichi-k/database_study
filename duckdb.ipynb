{
 "cells": [
  {
   "cell_type": "code",
   "execution_count": 1,
   "id": "880e2161",
   "metadata": {},
   "outputs": [
    {
     "name": "stdout",
     "output_type": "stream",
     "text": [
      "Collecting duckdb\n",
      "  Downloading duckdb-1.4.0-cp311-cp311-macosx_11_0_arm64.whl.metadata (14 kB)\n",
      "Downloading duckdb-1.4.0-cp311-cp311-macosx_11_0_arm64.whl (14.8 MB)\n",
      "\u001b[2K   \u001b[38;2;114;156;31m━━━━━━━━━━━━━━━━━━━━━━━━━━━━━━━━━━━━━━━━\u001b[0m \u001b[32m14.8/14.8 MB\u001b[0m \u001b[31m29.2 MB/s\u001b[0m  \u001b[33m0:00:00\u001b[0m9.9 MB/s\u001b[0m eta \u001b[36m0:00:01\u001b[0m\n",
      "\u001b[?25hInstalling collected packages: duckdb\n",
      "Successfully installed duckdb-1.4.0\n",
      "Note: you may need to restart the kernel to use updated packages.\n"
     ]
    }
   ],
   "source": [
    "%pip install duckdb"
   ]
  },
  {
   "cell_type": "code",
   "execution_count": 1,
   "id": "3976f250",
   "metadata": {},
   "outputs": [
    {
     "name": "stdout",
     "output_type": "stream",
     "text": [
      "[(84,)]\n",
      "[(20.0,)]\n"
     ]
    }
   ],
   "source": [
    "import duckdb\n",
    "\n",
    "# メモリ上のDBを作成\n",
    "con = duckdb.connect()\n",
    "\n",
    "# SQLを実行\n",
    "print(con.execute(\"SELECT 42*2\").fetchall())\n",
    "\n",
    "# pandasやCSVを直接クエリ\n",
    "import pandas as pd\n",
    "df = pd.DataFrame({\"id\": [1,2,3], \"value\": [10,20,30]})\n",
    "result = con.execute(\"SELECT avg(value) FROM df\").fetchall()\n",
    "print(result)\n"
   ]
  },
  {
   "cell_type": "code",
   "execution_count": 9,
   "id": "387260af",
   "metadata": {},
   "outputs": [
    {
     "name": "stdout",
     "output_type": "stream",
     "text": [
      "  name  age\n",
      "0  tai   30\n",
      "[(1,)]\n"
     ]
    }
   ],
   "source": [
    "# CSVを直接クエリ\n",
    "print(con.execute(\"SELECT * FROM './duckdb/data.csv' LIMIT 5\").df())\n",
    "print(con.execute(\"SELECT count(*) FROM './duckdb/data.csv'\").fetchall())"
   ]
  },
  {
   "cell_type": "code",
   "execution_count": 7,
   "id": "72ebee47",
   "metadata": {},
   "outputs": [
    {
     "data": {
      "text/plain": [
       "[('123',)]"
      ]
     },
     "execution_count": 7,
     "metadata": {},
     "output_type": "execute_result"
    }
   ],
   "source": [
    "# 正規表現\n",
    "con.execute(\"SELECT regexp_extract('abc123', '[0-9]+')\").fetchall()\n"
   ]
  },
  {
   "cell_type": "code",
   "execution_count": 8,
   "id": "ce0f7889",
   "metadata": {},
   "outputs": [
    {
     "data": {
      "text/html": [
       "<div>\n",
       "<style scoped>\n",
       "    .dataframe tbody tr th:only-of-type {\n",
       "        vertical-align: middle;\n",
       "    }\n",
       "\n",
       "    .dataframe tbody tr th {\n",
       "        vertical-align: top;\n",
       "    }\n",
       "\n",
       "    .dataframe thead th {\n",
       "        text-align: right;\n",
       "    }\n",
       "</style>\n",
       "<table border=\"1\" class=\"dataframe\">\n",
       "  <thead>\n",
       "    <tr style=\"text-align: right;\">\n",
       "      <th></th>\n",
       "      <th>month</th>\n",
       "      <th>avg_value</th>\n",
       "    </tr>\n",
       "  </thead>\n",
       "  <tbody>\n",
       "    <tr>\n",
       "      <th>0</th>\n",
       "      <td>2024-01-01</td>\n",
       "      <td>15.0</td>\n",
       "    </tr>\n",
       "    <tr>\n",
       "      <th>1</th>\n",
       "      <td>2024-02-01</td>\n",
       "      <td>30.0</td>\n",
       "    </tr>\n",
       "  </tbody>\n",
       "</table>\n",
       "</div>"
      ],
      "text/plain": [
       "       month  avg_value\n",
       "0 2024-01-01       15.0\n",
       "1 2024-02-01       30.0"
      ]
     },
     "execution_count": 8,
     "metadata": {},
     "output_type": "execute_result"
    }
   ],
   "source": [
    "# 時系列\n",
    "con.execute(\"\"\"\n",
    "SELECT \n",
    "  DATE_TRUNC('month', d::DATE) AS month,\n",
    "  avg(v) AS avg_value\n",
    "FROM (VALUES \n",
    "  ('2024-01-01', 10),\n",
    "  ('2024-01-15', 20),\n",
    "  ('2024-02-01', 30)\n",
    ") AS t(d,v)\n",
    "GROUP BY month\n",
    "\"\"\").fetchdf()"
   ]
  }
 ],
 "metadata": {
  "kernelspec": {
   "display_name": "3.11.8",
   "language": "python",
   "name": "python3"
  },
  "language_info": {
   "codemirror_mode": {
    "name": "ipython",
    "version": 3
   },
   "file_extension": ".py",
   "mimetype": "text/x-python",
   "name": "python",
   "nbconvert_exporter": "python",
   "pygments_lexer": "ipython3",
   "version": "3.11.8"
  }
 },
 "nbformat": 4,
 "nbformat_minor": 5
}
