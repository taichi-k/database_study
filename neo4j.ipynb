{
 "cells": [
  {
   "cell_type": "code",
   "execution_count": 5,
   "id": "d3c9d225",
   "metadata": {},
   "outputs": [
    {
     "name": "stdout",
     "output_type": "stream",
     "text": [
      "aa5b1242d0100d108d7b8965f4ac832e1bc17bdb4596ef8e5f076efc4d1c37a0\n"
     ]
    }
   ],
   "source": [
    "!docker run \\\n",
    "  --name neo4j-test \\\n",
    "  -p 7474:7474 -p 7687:7687 \\\n",
    "  -e NEO4J_AUTH=neo4j/password \\\n",
    "  -d neo4j:5"
   ]
  },
  {
   "cell_type": "markdown",
   "id": "2d2fe3de",
   "metadata": {},
   "source": [
    "↑ [WebUI](http://localhost:7474)でいろいろ見れるよ"
   ]
  },
  {
   "cell_type": "markdown",
   "id": "d9d964ce",
   "metadata": {},
   "source": [
    "---"
   ]
  },
  {
   "cell_type": "code",
   "execution_count": 7,
   "id": "0a6bba1f",
   "metadata": {},
   "outputs": [
    {
     "name": "stdout",
     "output_type": "stream",
     "text": [
      "Requirement already satisfied: neo4j in /Users/tai/.pyenv/versions/3.11.8/lib/python3.11/site-packages (5.28.2)\n",
      "Requirement already satisfied: pytz in /Users/tai/.pyenv/versions/3.11.8/lib/python3.11/site-packages (from neo4j) (2025.2)\n",
      "Note: you may need to restart the kernel to use updated packages.\n"
     ]
    }
   ],
   "source": [
    "%pip install neo4j"
   ]
  },
  {
   "cell_type": "code",
   "execution_count": 8,
   "id": "43320445",
   "metadata": {},
   "outputs": [
    {
     "name": "stdout",
     "output_type": "stream",
     "text": [
      "Alice knows: ['Charlie']\n"
     ]
    }
   ],
   "source": [
    "from neo4j import GraphDatabase\n",
    "\n",
    "uri = \"bolt://localhost:7687\"\n",
    "driver = GraphDatabase.driver(uri, auth=(\"neo4j\", \"password\"))\n",
    "\n",
    "def create_friend(tx, name, friend_name):\n",
    "    tx.run(\"CREATE (a:Person {name: $name})-[:KNOWS]->(f:Person {name: $friend_name})\",\n",
    "           name=name, friend_name=friend_name)\n",
    "\n",
    "def get_friends(tx, name):\n",
    "    result = tx.run(\"MATCH (a:Person {name: $name})-[:KNOWS]->(f) RETURN f.name AS friend\",\n",
    "                    name=name)\n",
    "    return [record[\"friend\"] for record in result]\n",
    "\n",
    "with driver.session() as session:\n",
    "    session.execute_write(create_friend, \"Alice\", \"Charlie\")\n",
    "    friends = session.execute_read(get_friends, \"Alice\")\n",
    "    print(f\"Alice knows: {friends}\")"
   ]
  },
  {
   "cell_type": "code",
   "execution_count": 11,
   "id": "4efaae68",
   "metadata": {},
   "outputs": [
    {
     "name": "stdout",
     "output_type": "stream",
     "text": [
      "People: [{'name': 'Alice', 'age': 31}, {'name': 'Charlie', 'age': None}, {'name': 'Alice', 'age': 31}, {'name': 'Alice', 'age': 30}, {'name': 'Bob', 'age': 25}]\n",
      "Alice's friends: ['Charlie', 'Bob', 'Bob', 'Bob']\n",
      "After update: [{'name': 'Alice', 'age': 31}, {'name': 'Charlie', 'age': None}, {'name': 'Alice', 'age': 31}, {'name': 'Alice', 'age': 31}, {'name': 'Bob', 'age': 25}]\n"
     ]
    }
   ],
   "source": [
    "from neo4j import GraphDatabase\n",
    "\n",
    "# 接続設定\n",
    "uri = \"bolt://localhost:7687\"\n",
    "driver = GraphDatabase.driver(uri, auth=(\"neo4j\", \"password\"))\n",
    "\n",
    "# --- Create ---\n",
    "def create_person(tx, name, age):\n",
    "    tx.run(\"CREATE (p:Person {name: $name, age: $age})\", name=name, age=age)\n",
    "\n",
    "def create_relationship(tx, name1, name2):\n",
    "    tx.run(\"\"\"\n",
    "        MATCH (a:Person {name: $name1}), (b:Person {name: $name2})\n",
    "        CREATE (a)-[:KNOWS]->(b)\n",
    "    \"\"\", name1=name1, name2=name2)\n",
    "\n",
    "# --- Read ---\n",
    "def get_people(tx):\n",
    "    result = tx.run(\"MATCH (p:Person) RETURN p.name AS name, p.age AS age\")\n",
    "    return [dict(record) for record in result]\n",
    "\n",
    "def get_friends(tx, name):\n",
    "    result = tx.run(\"\"\"\n",
    "        MATCH (a:Person {name: $name})-[:KNOWS]->(f)\n",
    "        RETURN f.name AS friend\n",
    "    \"\"\", name=name)\n",
    "    return [record[\"friend\"] for record in result]\n",
    "\n",
    "# --- Update ---\n",
    "def update_age(tx, name, new_age):\n",
    "    tx.run(\"MATCH (p:Person {name: $name}) SET p.age = $age\", name=name, age=new_age)\n",
    "\n",
    "# --- Delete ---\n",
    "def delete_person(tx, name):\n",
    "    tx.run(\"MATCH (p:Person {name: $name}) DETACH DELETE p\", name=name)\n",
    "\n",
    "# 実行例\n",
    "with driver.session() as session:\n",
    "    # Create\n",
    "    session.execute_write(create_person, \"Alice\", 30)\n",
    "    session.execute_write(create_person, \"Bob\", 25)\n",
    "    session.execute_write(create_relationship, \"Alice\", \"Bob\")\n",
    "\n",
    "    # Read\n",
    "    people = session.execute_read(get_people)\n",
    "    print(\"People:\", people)\n",
    "    print(\"Alice's friends:\", session.execute_read(get_friends, \"Alice\"))\n",
    "\n",
    "    # Update\n",
    "    session.execute_write(update_age, \"Alice\", 31)\n",
    "    print(\"After update:\", session.execute_read(get_people))\n",
    "\n",
    "    # Delete\n",
    "    session.execute_write(delete_person, \"Bob\")\n",
    "    print(\"After delete:\", session.execute_read(get_people))"
   ]
  }
 ],
 "metadata": {
  "kernelspec": {
   "display_name": "3.11.8",
   "language": "python",
   "name": "python3"
  },
  "language_info": {
   "codemirror_mode": {
    "name": "ipython",
    "version": 3
   },
   "file_extension": ".py",
   "mimetype": "text/x-python",
   "name": "python",
   "nbconvert_exporter": "python",
   "pygments_lexer": "ipython3",
   "version": "3.11.8"
  }
 },
 "nbformat": 4,
 "nbformat_minor": 5
}
