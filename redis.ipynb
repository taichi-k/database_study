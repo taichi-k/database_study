{
 "cells": [
  {
   "cell_type": "code",
   "execution_count": 1,
   "id": "bfdbe87f",
   "metadata": {},
   "outputs": [
    {
     "name": "stdout",
     "output_type": "stream",
     "text": [
      "Unable to find image 'redis:latest' locally\n",
      "latest: Pulling from library/redis\n",
      "\n",
      "\u001b[1Becc8b0af: Pulling fs layer \n",
      "\u001b[1B2eb8b06c: Pulling fs layer \n",
      "\u001b[1B8a492665: Pulling fs layer \n",
      "\u001b[1B7b7cdd6d: Pulling fs layer \n",
      "\u001b[1B6557134d: Pulling fs layer \n",
      "\u001b[1Bb700ef54: Pulling fs layer \n",
      "\u001b[1BDigest: sha256:acb90ced0bd769b7c04cb4c32c4494ba7b3e0ee068bdbfff0eeb0d31c2a210787A\u001b[2K\u001b[7A\u001b[2K\u001b[7A\u001b[2K\u001b[7A\u001b[2K\u001b[7A\u001b[2K\u001b[4A\u001b[2K\u001b[3A\u001b[2K\u001b[4A\u001b[2K\u001b[7A\u001b[2K\u001b[4A\u001b[2K\u001b[7A\u001b[2K\u001b[7A\u001b[2K\u001b[7A\u001b[2K\u001b[4A\u001b[2K\u001b[7A\u001b[2K\u001b[4A\u001b[2K\u001b[7A\u001b[2K\u001b[4A\u001b[2K\u001b[7A\u001b[2K\u001b[4A\u001b[2K\u001b[7A\u001b[2K\u001b[7A\u001b[2K\u001b[2A\u001b[2K\u001b[7A\u001b[2K\u001b[7A\u001b[2K\u001b[7A\u001b[2K\u001b[4A\u001b[2KExtracting  5.308MB/28.1MB\u001b[4A\u001b[2K\u001b[4A\u001b[2K\u001b[4A\u001b[2K\u001b[4A\u001b[2K\u001b[7A\u001b[2K\u001b[4A\u001b[2K\u001b[7A\u001b[2K\u001b[4A\u001b[2K\u001b[1A\u001b[2K\u001b[4A\u001b[2K\u001b[7A\u001b[2K\u001b[7A\u001b[2K\u001b[6A\u001b[2K\u001b[4A\u001b[2K\u001b[4A\u001b[2K\u001b[4A\u001b[2K\n",
      "Status: Downloaded newer image for redis:latest\n",
      "9602244f8503a68d78affe3daf18dde16e300173257ec554986a430bdbee3aa3\n"
     ]
    }
   ],
   "source": [
    "!docker run --name redis-test -d -p 6379:6379 redis"
   ]
  },
  {
   "cell_type": "code",
   "execution_count": 2,
   "id": "159ab3bc",
   "metadata": {},
   "outputs": [
    {
     "name": "stdout",
     "output_type": "stream",
     "text": [
      "Collecting redis\n",
      "  Downloading redis-6.4.0-py3-none-any.whl.metadata (10 kB)\n",
      "Downloading redis-6.4.0-py3-none-any.whl (279 kB)\n",
      "Installing collected packages: redis\n",
      "Successfully installed redis-6.4.0\n"
     ]
    }
   ],
   "source": [
    "!pip install redis"
   ]
  },
  {
   "cell_type": "code",
   "execution_count": null,
   "id": "79d7c90c",
   "metadata": {},
   "outputs": [
    {
     "name": "stdout",
     "output_type": "stream",
     "text": [
      "Hello from Python\n"
     ]
    }
   ],
   "source": [
    "import redis\n",
    "\n",
    "r = redis.Redis(host='localhost', port=6379, db=0)\n",
    "r.set(\"mykey\", \"Hello from Python\")\n",
    "value = r.get(\"mykey\")\n",
    "print(value.decode(\"utf-8\"))"
   ]
  },
  {
   "cell_type": "code",
   "execution_count": 12,
   "id": "d0c94b7f",
   "metadata": {},
   "outputs": [
    {
     "data": {
      "text/plain": [
       "b' from Python'"
      ]
     },
     "execution_count": 12,
     "metadata": {},
     "output_type": "execute_result"
    }
   ],
   "source": [
    "r.set(\"mykey\", \" from Python\")\n",
    "r.get(\"mykey\")"
   ]
  },
  {
   "cell_type": "code",
   "execution_count": 13,
   "id": "edc91c93",
   "metadata": {},
   "outputs": [
    {
     "name": "stdout",
     "output_type": "stream",
     "text": [
      "Keys: [b'mykey']\n",
      "Values: [' from Python']\n"
     ]
    }
   ],
   "source": [
    "# 全件取得\n",
    "keys = r.keys('*')\n",
    "print(\"Keys:\", keys)\n",
    "print(\"Values:\", [r.get(key).decode(\"utf-8\") for key in keys])"
   ]
  },
  {
   "cell_type": "code",
   "execution_count": null,
   "id": "e2bfe78a",
   "metadata": {},
   "outputs": [
    {
     "name": "stdout",
     "output_type": "stream",
     "text": [
      "b'3'\n"
     ]
    }
   ],
   "source": [
    "# Increment\n",
    "r.incr(\"counter\")  # 1\n",
    "r.incr(\"counter\")  # 2\n",
    "r.incr(\"counter\")  # 3\n",
    "print(r.get(\"counter\"))  # b'3'"
   ]
  },
  {
   "cell_type": "code",
   "execution_count": 18,
   "id": "ccd27690",
   "metadata": {},
   "outputs": [
    {
     "name": "stdout",
     "output_type": "stream",
     "text": [
      "[b'three', b'two', b'one', b'three', b'two', b'one']\n"
     ]
    }
   ],
   "source": [
    "# List型\n",
    "r.lpush(\"mylist\", \"one\")\n",
    "r.lpush(\"mylist\", \"two\")\n",
    "r.lpush(\"mylist\", \"three\")\n",
    "\n",
    "print(r.lrange(\"mylist\", 0, -1))  "
   ]
  },
  {
   "cell_type": "code",
   "execution_count": 17,
   "id": "4958658e",
   "metadata": {},
   "outputs": [
    {
     "name": "stdout",
     "output_type": "stream",
     "text": [
      "{b'apple', b'banana'}\n"
     ]
    }
   ],
   "source": [
    "# Set型\n",
    "r.sadd(\"myset\", \"apple\")\n",
    "r.sadd(\"myset\", \"banana\")\n",
    "r.sadd(\"myset\", \"apple\")\n",
    "\n",
    "print(r.smembers(\"myset\"))"
   ]
  },
  {
   "cell_type": "code",
   "execution_count": 32,
   "id": "8af1e626",
   "metadata": {},
   "outputs": [
    {
     "name": "stdout",
     "output_type": "stream",
     "text": [
      "Alice\n",
      "{b'name': b'Alice', b'age': b'30', b'email': b'aa@example.com'}\n",
      "{b'name': b'Bob', b'age': b'25'}\n"
     ]
    }
   ],
   "source": [
    "# Hash型\n",
    "r.hset(\"user:1000\", mapping={\"name\": \"Alice\", \"age\": \"30\"})\n",
    "r.hset(\"user:1000\", \"email\", \"aa@example.com\")\n",
    "r.hset(\"user:1001\", mapping={\"name\": \"Bob\", \"age\": \"25\"})\n",
    "\n",
    "print(r.hget(\"user:1000\", \"name\").decode(\"utf-8\"))\n",
    "print(r.hgetall(\"user:1000\"))\n",
    "print(r.hgetall(\"user:1001\"))"
   ]
  },
  {
   "cell_type": "code",
   "execution_count": 27,
   "id": "8c31efda",
   "metadata": {},
   "outputs": [
    {
     "name": "stdout",
     "output_type": "stream",
     "text": [
      "b'counter' b'string' b'3'\n",
      "b'myset' b'set' None\n",
      "b'user:1001' b'hash' None\n",
      "b'mykey' b'string' b' from Python'\n",
      "b'mylist' b'list' None\n",
      "b'user:1000' b'hash' None\n"
     ]
    }
   ],
   "source": [
    "for k in r.keys('*'):\n",
    "    print(k, r.type(k), r.get(k) if r.type(k) == b'string' else None)"
   ]
  },
  {
   "cell_type": "code",
   "execution_count": 34,
   "id": "7dff9767",
   "metadata": {},
   "outputs": [
    {
     "name": "stdout",
     "output_type": "stream",
     "text": [
      "[(b'Alice', 100.0), (b'Charlie', 150.0), (b'Bob', 200.0)]\n",
      "[(b'Bob', 200.0), (b'Charlie', 150.0), (b'Alice', 100.0)]\n",
      "100.0\n",
      "0\n",
      "2\n"
     ]
    }
   ],
   "source": [
    "# スコア付きデータを追加\n",
    "r.zadd(\"leaderboard\", {\"Alice\": 100, \"Bob\": 200, \"Charlie\": 150})\n",
    "\n",
    "print(r.zrange(\"leaderboard\", 0, -1, withscores=True))\n",
    "print(r.zrevrange(\"leaderboard\", 0, -1, withscores=True))\n",
    "\n",
    "print(r.zscore(\"leaderboard\", \"Alice\"))  # 100.0\n",
    "print(r.zrank(\"leaderboard\", \"Alice\"))   # 0\n",
    "print(r.zrevrank(\"leaderboard\", \"Alice\"))  # 2"
   ]
  },
  {
   "cell_type": "markdown",
   "id": "7a3f041b",
   "metadata": {},
   "source": [
    "# Pub/Sub的使い方"
   ]
  },
  {
   "cell_type": "code",
   "execution_count": null,
   "id": "77d5f035",
   "metadata": {},
   "outputs": [
    {
     "name": "stdout",
     "output_type": "stream",
     "text": [
      "Received message: b'Hello, Redis!'\n",
      "Received message: b'Another message'\n"
     ]
    },
    {
     "data": {
      "text/plain": [
       "1"
      ]
     },
     "execution_count": 35,
     "metadata": {},
     "output_type": "execute_result"
    }
   ],
   "source": [
    "# pub/sub\n",
    "\n",
    "def message_handler(message):\n",
    "    print(\"Received message:\", message['data'])\n",
    "pubsub = r.pubsub()\n",
    "pubsub.subscribe(**{'mychannel': message_handler})\n",
    "pubsub_thread = pubsub.run_in_thread(sleep_time=0.001)\n",
    "\n",
    "r.publish('mychannel', 'Hello, Redis!')\n",
    "r.publish('mychannel', 'Another message')\n",
    "\n",
    "# for message in pubsub.listen():\n",
    "#     print(message)"
   ]
  },
  {
   "cell_type": "markdown",
   "id": "179fef06",
   "metadata": {},
   "source": [
    "# Stream（ログ・メッセージキュー）"
   ]
  },
  {
   "cell_type": "code",
   "execution_count": 36,
   "id": "388f1a2a",
   "metadata": {},
   "outputs": [
    {
     "name": "stdout",
     "output_type": "stream",
     "text": [
      "[(b'1758278996196-0', {b'message': b'Hello'}), (b'1758278996200-0', {b'message': b'World'})]\n"
     ]
    }
   ],
   "source": [
    "r.xadd(\"mystream\", {\"message\": \"Hello\"})\n",
    "r.xadd(\"mystream\", {\"message\": \"World\"})\n",
    "\n",
    "print(r.xrange(\"mystream\", min=\"-\", max=\"+\"))"
   ]
  }
 ],
 "metadata": {
  "kernelspec": {
   "display_name": "3.11.8",
   "language": "python",
   "name": "python3"
  },
  "language_info": {
   "codemirror_mode": {
    "name": "ipython",
    "version": 3
   },
   "file_extension": ".py",
   "mimetype": "text/x-python",
   "name": "python",
   "nbconvert_exporter": "python",
   "pygments_lexer": "ipython3",
   "version": "3.11.8"
  }
 },
 "nbformat": 4,
 "nbformat_minor": 5
}
