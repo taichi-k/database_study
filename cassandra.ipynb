{
 "cells": [
  {
   "cell_type": "code",
   "execution_count": null,
   "id": "20b75428",
   "metadata": {},
   "outputs": [
    {
     "name": "stdout",
     "output_type": "stream",
     "text": [
      "Unable to find image 'cassandra:4.1' locally\n",
      "4.1: Pulling from library/cassandra\n",
      "\n",
      "\u001b[1B7ba0bcdc: Already exists \n",
      "\u001b[1Bef1f8818: Pulling fs layer \n",
      "\u001b[1B01131d2c: Pulling fs layer \n",
      "\u001b[1B1e4220e2: Pulling fs layer \n",
      "\u001b[1B2709ea7e: Pulling fs layer \n",
      "\u001b[1Bb590521b: Pulling fs layer \n",
      "\u001b[1Bb8a0cb13: Pulling fs layer \n",
      "\u001b[1Bb19f69ad: Pulling fs layer \n",
      "\u001b[1Bad61b2a4: Pulling fs layer \n",
      "\u001b[1BDigest: sha256:70659accf6fc1f2fa5b8103e9446644f14551c923bd059b4450eab871a6435c1\u001b[2K\u001b[8A\u001b[2K\u001b[9A\u001b[2K\u001b[8A\u001b[2K\u001b[9A\u001b[2K\u001b[8A\u001b[2K\u001b[8A\u001b[2K\u001b[9A\u001b[2K\u001b[8A\u001b[2K\u001b[9A\u001b[2K\u001b[6A\u001b[2K\u001b[8A\u001b[2K\u001b[8A\u001b[2K\u001b[8A\u001b[2K\u001b[9A\u001b[2K\u001b[9A\u001b[2K\u001b[8A\u001b[2K\u001b[9A\u001b[2K\u001b[8A\u001b[2K\u001b[9A\u001b[2K\u001b[8A\u001b[2K\u001b[9A\u001b[2K\u001b[8A\u001b[2K\u001b[5A\u001b[2K\u001b[9A\u001b[2K\u001b[9A\u001b[2K\u001b[9A\u001b[2K\u001b[9A\u001b[2K\u001b[8A\u001b[2K\u001b[9A\u001b[2K\u001b[8A\u001b[2K\u001b[9A\u001b[2K\u001b[8A\u001b[2K\u001b[8A\u001b[2K\u001b[9A\u001b[2K\u001b[9A\u001b[2K\u001b[4A\u001b[2K\u001b[9A\u001b[2K\u001b[8A\u001b[2K\u001b[9A\u001b[2K\u001b[9A\u001b[2K\u001b[4A\u001b[2K\u001b[8A\u001b[2K\u001b[4A\u001b[2K\u001b[3A\u001b[2K\u001b[8A\u001b[2K\u001b[3A\u001b[2K\u001b[8A\u001b[2K\u001b[8A\u001b[2K\u001b[4A\u001b[2K\u001b[8A\u001b[2K\u001b[4A\u001b[2K\u001b[8A\u001b[2K\u001b[4A\u001b[2K\u001b[8A\u001b[2K\u001b[4A\u001b[2K\u001b[8A\u001b[2K\u001b[8A\u001b[2K\u001b[5A\u001b[2K\u001b[4A\u001b[2K\u001b[1A\u001b[2K\u001b[4A\u001b[2K\u001b[4A\u001b[2K\u001b[4A\u001b[2K\u001b[2A\u001b[2K\u001b[2A\u001b[2K\u001b[2A\u001b[2K\u001b[2A\u001b[2K\u001b[2A\u001b[2K\u001b[2A\u001b[2K\u001b[2A\u001b[2K\u001b[2A\u001b[2K\u001b[2A\u001b[2K\u001b[2A\u001b[2K\u001b[2A\u001b[2K\u001b[2A\u001b[2K\u001b[2A\u001b[2K\u001b[2A\u001b[2K\u001b[2A\u001b[2K\u001b[2A\u001b[2K\u001b[2A\u001b[2K\u001b[2A\u001b[2K\u001b[2A\u001b[2K\u001b[2A\u001b[2K\u001b[2A\u001b[2K\u001b[2A\u001b[2K\u001b[2A\u001b[2K\u001b[2A\u001b[2K\u001b[2A\u001b[2K\u001b[2A\u001b[2K\u001b[2A\u001b[2K\u001b[2A\u001b[2K\u001b[2A\u001b[2K\u001b[2A\u001b[2K\u001b[2A\u001b[2K\u001b[2A\u001b[2K\u001b[2A\u001b[2K\u001b[2A\u001b[2K\u001b[2A\u001b[2K\u001b[2A\u001b[2K\u001b[2A\u001b[2K\u001b[2A\u001b[2K\u001b[2A\u001b[2K\u001b[2A\u001b[2K\u001b[2A\u001b[2K\u001b[2A\u001b[2K\n",
      "Status: Downloaded newer image for cassandra:4.1\n",
      "1a28f9857ff7bcf975e47fd2649d4d313f875b66ccce8bcbdf88c80825724f6d\n"
     ]
    }
   ],
   "source": [
    "!docker run --name cassandra-test -d -p 9042:9042 cassandra:4.1\n",
    "# docker exec -it cassandra-test cqlsh"
   ]
  },
  {
   "cell_type": "code",
   "execution_count": 2,
   "id": "eb27a1b4",
   "metadata": {},
   "outputs": [
    {
     "name": "stdout",
     "output_type": "stream",
     "text": [
      "Collecting cassandra-driver\n",
      "  Downloading cassandra_driver-3.29.2-cp311-cp311-macosx_11_0_arm64.whl.metadata (6.2 kB)\n",
      "Collecting geomet<0.3,>=0.1 (from cassandra-driver)\n",
      "  Downloading geomet-0.2.1.post1-py3-none-any.whl.metadata (1.0 kB)\n",
      "Requirement already satisfied: click in /Users/tai/.pyenv/versions/3.11.8/lib/python3.11/site-packages (from geomet<0.3,>=0.1->cassandra-driver) (8.2.1)\n",
      "Requirement already satisfied: six in /Users/tai/.pyenv/versions/3.11.8/lib/python3.11/site-packages (from geomet<0.3,>=0.1->cassandra-driver) (1.17.0)\n",
      "Downloading cassandra_driver-3.29.2-cp311-cp311-macosx_11_0_arm64.whl (364 kB)\n",
      "Downloading geomet-0.2.1.post1-py3-none-any.whl (18 kB)\n",
      "Installing collected packages: geomet, cassandra-driver\n",
      "\u001b[2K   \u001b[38;2;114;156;31m━━━━━━━━━━━━━━━━━━━━━━━━━━━━━━━━━━━━━━━━\u001b[0m \u001b[32m2/2\u001b[0m [cassandra-driver]\n",
      "\u001b[1A\u001b[2KSuccessfully installed cassandra-driver-3.29.2 geomet-0.2.1.post1\n"
     ]
    }
   ],
   "source": [
    "!pip install cassandra-driver"
   ]
  },
  {
   "cell_type": "code",
   "execution_count": 3,
   "id": "b10906a3",
   "metadata": {},
   "outputs": [],
   "source": [
    "from cassandra.cluster import Cluster\n",
    "from cassandra.query import SimpleStatement\n",
    "import uuid\n"
   ]
  },
  {
   "cell_type": "code",
   "execution_count": 4,
   "id": "722f8b95",
   "metadata": {},
   "outputs": [],
   "source": [
    "# 1. Cassandra に接続\n",
    "cluster = Cluster([\"127.0.0.1\"], port=9042)\n",
    "session = cluster.connect()"
   ]
  },
  {
   "cell_type": "code",
   "execution_count": 5,
   "id": "c714aa46",
   "metadata": {},
   "outputs": [
    {
     "data": {
      "text/plain": [
       "<cassandra.cluster.ResultSet at 0x10c7f6910>"
      ]
     },
     "execution_count": 5,
     "metadata": {},
     "output_type": "execute_result"
    }
   ],
   "source": [
    "# 2. キースペース作成（あればスキップされる）\n",
    "session.execute(\"\"\"\n",
    "    CREATE KEYSPACE IF NOT EXISTS testks\n",
    "    WITH replication = {'class': 'SimpleStrategy', 'replication_factor': 1}\n",
    "\"\"\")"
   ]
  },
  {
   "cell_type": "code",
   "execution_count": 6,
   "id": "d3c605e0",
   "metadata": {},
   "outputs": [],
   "source": [
    "session.set_keyspace(\"testks\")"
   ]
  },
  {
   "cell_type": "code",
   "execution_count": 7,
   "id": "0cf7288d",
   "metadata": {},
   "outputs": [
    {
     "data": {
      "text/plain": [
       "<cassandra.cluster.ResultSet at 0x10c7f5ad0>"
      ]
     },
     "execution_count": 7,
     "metadata": {},
     "output_type": "execute_result"
    }
   ],
   "source": [
    "# 4. テーブル作成\n",
    "session.execute(\"\"\"\n",
    "    CREATE TABLE IF NOT EXISTS users (\n",
    "        id UUID PRIMARY KEY,\n",
    "        name text,\n",
    "        age int\n",
    "    )\n",
    "\"\"\")"
   ]
  },
  {
   "cell_type": "code",
   "execution_count": 8,
   "id": "081c9444",
   "metadata": {},
   "outputs": [
    {
     "data": {
      "text/plain": [
       "<cassandra.cluster.ResultSet at 0x107e2d810>"
      ]
     },
     "execution_count": 8,
     "metadata": {},
     "output_type": "execute_result"
    }
   ],
   "source": [
    "# 5. データ挿入\n",
    "user_id = uuid.uuid4()\n",
    "session.execute(\n",
    "    \"INSERT INTO users (id, name, age) VALUES (%s, %s, %s)\",\n",
    "    (user_id, \"Alice\", 30)\n",
    ")"
   ]
  },
  {
   "cell_type": "code",
   "execution_count": 12,
   "id": "b680dcea",
   "metadata": {},
   "outputs": [
    {
     "name": "stdout",
     "output_type": "stream",
     "text": [
      "c161fdc3-39f5-49c0-af93-7935bee170b0 | Alice | 30\n"
     ]
    }
   ],
   "source": [
    "# 6. データ取得\n",
    "rows = session.execute(\"SELECT id, name, age FROM users\")\n",
    "for row in rows:\n",
    "    print(f\"{row.id} | {row.name} | {row.age}\")"
   ]
  },
  {
   "cell_type": "code",
   "execution_count": null,
   "id": "851e5044",
   "metadata": {},
   "outputs": [],
   "source": []
  }
 ],
 "metadata": {
  "kernelspec": {
   "display_name": "3.11.8",
   "language": "python",
   "name": "python3"
  },
  "language_info": {
   "codemirror_mode": {
    "name": "ipython",
    "version": 3
   },
   "file_extension": ".py",
   "mimetype": "text/x-python",
   "name": "python",
   "nbconvert_exporter": "python",
   "pygments_lexer": "ipython3",
   "version": "3.11.8"
  }
 },
 "nbformat": 4,
 "nbformat_minor": 5
}
